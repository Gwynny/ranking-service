{
 "cells": [
  {
   "cell_type": "code",
   "execution_count": 9,
   "metadata": {},
   "outputs": [],
   "source": [
    "import itertools\n",
    "import os\n",
    "from src.data.text_retriever import TextRetriever\n",
    "from src.data.make_dataset import TrainTripletsDataset, ValPairsDataset"
   ]
  },
  {
   "cell_type": "code",
   "execution_count": 10,
   "metadata": {},
   "outputs": [],
   "source": [
    "parent_dir = os.path.abspath(os.path.join('', os.pardir))\n",
    "retriever = TextRetriever(parent_dir + '/data/raw/QQP/train.tsv', parent_dir + '/data/raw/QQP/dev.tsv')\n",
    "train_df = retriever.train_df\n",
    "val_df = retriever.val_df"
   ]
  },
  {
   "cell_type": "code",
   "execution_count": 4,
   "metadata": {},
   "outputs": [
    {
     "data": {
      "text/html": [
       "<div>\n",
       "<style scoped>\n",
       "    .dataframe tbody tr th:only-of-type {\n",
       "        vertical-align: middle;\n",
       "    }\n",
       "\n",
       "    .dataframe tbody tr th {\n",
       "        vertical-align: top;\n",
       "    }\n",
       "\n",
       "    .dataframe thead th {\n",
       "        text-align: right;\n",
       "    }\n",
       "</style>\n",
       "<table border=\"1\" class=\"dataframe\">\n",
       "  <thead>\n",
       "    <tr style=\"text-align: right;\">\n",
       "      <th></th>\n",
       "      <th>id_left</th>\n",
       "      <th>id_right</th>\n",
       "      <th>text_left</th>\n",
       "      <th>text_right</th>\n",
       "      <th>label</th>\n",
       "    </tr>\n",
       "  </thead>\n",
       "  <tbody>\n",
       "    <tr>\n",
       "      <th>363841</th>\n",
       "      <td>100941</td>\n",
       "      <td>83372</td>\n",
       "      <td>How do I make money flying my drone?</td>\n",
       "      <td>How can I use a dji phantom to make money</td>\n",
       "      <td>1</td>\n",
       "    </tr>\n",
       "    <tr>\n",
       "      <th>363842</th>\n",
       "      <td>62873</td>\n",
       "      <td>34460</td>\n",
       "      <td>What can you do with an economics degree?</td>\n",
       "      <td>What jobs can you get with an economics degree?</td>\n",
       "      <td>1</td>\n",
       "    </tr>\n",
       "    <tr>\n",
       "      <th>363843</th>\n",
       "      <td>217377</td>\n",
       "      <td>217378</td>\n",
       "      <td>What type of current does a battery produce?</td>\n",
       "      <td>How does a generator work and produce current?</td>\n",
       "      <td>0</td>\n",
       "    </tr>\n",
       "    <tr>\n",
       "      <th>363844</th>\n",
       "      <td>425744</td>\n",
       "      <td>285638</td>\n",
       "      <td>Grammar: What is difference between schedule a...</td>\n",
       "      <td>How do I understand the difference between the...</td>\n",
       "      <td>0</td>\n",
       "    </tr>\n",
       "    <tr>\n",
       "      <th>363845</th>\n",
       "      <td>39774</td>\n",
       "      <td>20105</td>\n",
       "      <td>What is the easiest way to earn money using in...</td>\n",
       "      <td>How can I earn money online easily?</td>\n",
       "      <td>1</td>\n",
       "    </tr>\n",
       "  </tbody>\n",
       "</table>\n",
       "</div>"
      ],
      "text/plain": [
       "       id_left id_right                                          text_left  \\\n",
       "363841  100941    83372               How do I make money flying my drone?   \n",
       "363842   62873    34460          What can you do with an economics degree?   \n",
       "363843  217377   217378       What type of current does a battery produce?   \n",
       "363844  425744   285638  Grammar: What is difference between schedule a...   \n",
       "363845   39774    20105  What is the easiest way to earn money using in...   \n",
       "\n",
       "                                               text_right  label  \n",
       "363841          How can I use a dji phantom to make money      1  \n",
       "363842    What jobs can you get with an economics degree?      1  \n",
       "363843     How does a generator work and produce current?      0  \n",
       "363844  How do I understand the difference between the...      0  \n",
       "363845                How can I earn money online easily?      1  "
      ]
     },
     "execution_count": 4,
     "metadata": {},
     "output_type": "execute_result"
    }
   ],
   "source": [
    "train_df.tail()"
   ]
  },
  {
   "attachments": {},
   "cell_type": "markdown",
   "metadata": {},
   "source": [
    "Data description\n",
    "- id_left and id_right - identifiers of left and right question\n",
    "- text_left and text_right - texts of these questions\n",
    "- label is 1 when it's similiar questions and 0 when it's not"
   ]
  },
  {
   "attachments": {},
   "cell_type": "markdown",
   "metadata": {},
   "source": [
    "I create triplets for training phase and pairs for validation. Triplets has 3 variations:\n",
    "\n",
    "- left_id | relevant right_id question | irrelevant right_id from left_id group | 1.0 target\n",
    "- left_id | relevant right_id question | irrelevant question from entire dataset | 1.0 target\n",
    "- left_id | irrelevant right_id question | irrelevant question from left_id group | 0.5 target"
   ]
  },
  {
   "cell_type": "code",
   "execution_count": 5,
   "metadata": {},
   "outputs": [
    {
     "name": "stdout",
     "output_type": "stream",
     "text": [
      "CPU times: total: 6.62 s\n",
      "Wall time: 23.2 s\n"
     ]
    }
   ],
   "source": [
    "%%time\n",
    "triplets = TrainTripletsDataset.create_train_triplets(train_df,\n",
    "                                                      seed=0,\n",
    "                                                      num_positive_examples=4,\n",
    "                                                      num_same_rel_examples=2)"
   ]
  },
  {
   "cell_type": "code",
   "execution_count": 6,
   "metadata": {},
   "outputs": [
    {
     "data": {
      "text/plain": [
       "8063"
      ]
     },
     "execution_count": 6,
     "metadata": {},
     "output_type": "execute_result"
    }
   ],
   "source": [
    "len(triplets)"
   ]
  },
  {
   "cell_type": "code",
   "execution_count": 7,
   "metadata": {},
   "outputs": [
    {
     "data": {
      "text/plain": [
       "[['10024', '117', '159258', 1.0],\n",
       " ['10024', '12018', '159258', 1.0],\n",
       " ['10024', '12018', '10382', 1.0],\n",
       " ['10024', '37121', '29590', 1.0],\n",
       " ['10024', '37121', '477559', 1.0],\n",
       " ['10024', '29590', '10382', 0.5],\n",
       " ['10024', '29590', '159258', 0.5],\n",
       " ['100294', '491115', '100295', 1.0]]"
      ]
     },
     "execution_count": 7,
     "metadata": {},
     "output_type": "execute_result"
    }
   ],
   "source": [
    "triplets[:8]"
   ]
  },
  {
   "attachments": {},
   "cell_type": "markdown",
   "metadata": {},
   "source": [
    "##### Everything is fine. 4 positive examples was chosen from the same group (id_left=10024), 477559 is random sample from entire train dataset and 2 examples with 0.5 relevancy is pairs of irrelevant questions to 10024."
   ]
  },
  {
   "cell_type": "code",
   "execution_count": 8,
   "metadata": {},
   "outputs": [
    {
     "data": {
      "text/html": [
       "<div>\n",
       "<style scoped>\n",
       "    .dataframe tbody tr th:only-of-type {\n",
       "        vertical-align: middle;\n",
       "    }\n",
       "\n",
       "    .dataframe tbody tr th {\n",
       "        vertical-align: top;\n",
       "    }\n",
       "\n",
       "    .dataframe thead th {\n",
       "        text-align: right;\n",
       "    }\n",
       "</style>\n",
       "<table border=\"1\" class=\"dataframe\">\n",
       "  <thead>\n",
       "    <tr style=\"text-align: right;\">\n",
       "      <th></th>\n",
       "      <th>id_left</th>\n",
       "      <th>id_right</th>\n",
       "      <th>text_left</th>\n",
       "      <th>text_right</th>\n",
       "      <th>label</th>\n",
       "    </tr>\n",
       "  </thead>\n",
       "  <tbody>\n",
       "    <tr>\n",
       "      <th>18623</th>\n",
       "      <td>10024</td>\n",
       "      <td>12018</td>\n",
       "      <td>How do I reset my Gmail password when I don't ...</td>\n",
       "      <td>How can I reset my Gmail password when I don't...</td>\n",
       "      <td>1</td>\n",
       "    </tr>\n",
       "    <tr>\n",
       "      <th>36292</th>\n",
       "      <td>10024</td>\n",
       "      <td>27456</td>\n",
       "      <td>How do I reset my Gmail password when I don't ...</td>\n",
       "      <td>I forgot my Gmail password and I can't answer ...</td>\n",
       "      <td>1</td>\n",
       "    </tr>\n",
       "    <tr>\n",
       "      <th>54955</th>\n",
       "      <td>10024</td>\n",
       "      <td>64009</td>\n",
       "      <td>How do I reset my Gmail password when I don't ...</td>\n",
       "      <td>How can I add a recovery phone number to my Gm...</td>\n",
       "      <td>1</td>\n",
       "    </tr>\n",
       "    <tr>\n",
       "      <th>113459</th>\n",
       "      <td>10024</td>\n",
       "      <td>29590</td>\n",
       "      <td>How do I reset my Gmail password when I don't ...</td>\n",
       "      <td>How do I reset my Instagram password if I put ...</td>\n",
       "      <td>0</td>\n",
       "    </tr>\n",
       "    <tr>\n",
       "      <th>117166</th>\n",
       "      <td>10024</td>\n",
       "      <td>61676</td>\n",
       "      <td>How do I reset my Gmail password when I don't ...</td>\n",
       "      <td>How do I reset my password to Gmail without my...</td>\n",
       "      <td>1</td>\n",
       "    </tr>\n",
       "    <tr>\n",
       "      <th>139644</th>\n",
       "      <td>10024</td>\n",
       "      <td>159258</td>\n",
       "      <td>How do I reset my Gmail password when I don't ...</td>\n",
       "      <td>I forgot my Facebook password. I don't remembe...</td>\n",
       "      <td>0</td>\n",
       "    </tr>\n",
       "    <tr>\n",
       "      <th>198999</th>\n",
       "      <td>10024</td>\n",
       "      <td>21153</td>\n",
       "      <td>How do I reset my Gmail password when I don't ...</td>\n",
       "      <td>How can I reset my Gmail password if I don't r...</td>\n",
       "      <td>1</td>\n",
       "    </tr>\n",
       "    <tr>\n",
       "      <th>261942</th>\n",
       "      <td>10024</td>\n",
       "      <td>115735</td>\n",
       "      <td>How do I reset my Gmail password when I don't ...</td>\n",
       "      <td>How can I reset my Gmail password without know...</td>\n",
       "      <td>1</td>\n",
       "    </tr>\n",
       "    <tr>\n",
       "      <th>288171</th>\n",
       "      <td>10024</td>\n",
       "      <td>143891</td>\n",
       "      <td>How do I reset my Gmail password when I don't ...</td>\n",
       "      <td>How can I access my Gmail account if I don't r...</td>\n",
       "      <td>1</td>\n",
       "    </tr>\n",
       "    <tr>\n",
       "      <th>291969</th>\n",
       "      <td>10024</td>\n",
       "      <td>23752</td>\n",
       "      <td>How do I reset my Gmail password when I don't ...</td>\n",
       "      <td>How do I reset my Gmail password when I don't ...</td>\n",
       "      <td>1</td>\n",
       "    </tr>\n",
       "    <tr>\n",
       "      <th>311485</th>\n",
       "      <td>10024</td>\n",
       "      <td>10382</td>\n",
       "      <td>How do I reset my Gmail password when I don't ...</td>\n",
       "      <td>I forgot my Facebook password and email passwo...</td>\n",
       "      <td>0</td>\n",
       "    </tr>\n",
       "    <tr>\n",
       "      <th>356474</th>\n",
       "      <td>10024</td>\n",
       "      <td>37121</td>\n",
       "      <td>How do I reset my Gmail password when I don't ...</td>\n",
       "      <td>How do you rest your rescue password if you do...</td>\n",
       "      <td>1</td>\n",
       "    </tr>\n",
       "    <tr>\n",
       "      <th>359690</th>\n",
       "      <td>10024</td>\n",
       "      <td>117</td>\n",
       "      <td>How do I reset my Gmail password when I don't ...</td>\n",
       "      <td>I was suddenly logged off Gmail. I can't remem...</td>\n",
       "      <td>1</td>\n",
       "    </tr>\n",
       "    <tr>\n",
       "      <th>360646</th>\n",
       "      <td>10024</td>\n",
       "      <td>3875</td>\n",
       "      <td>How do I reset my Gmail password when I don't ...</td>\n",
       "      <td>With a forgotten Gmail password, how do you fi...</td>\n",
       "      <td>1</td>\n",
       "    </tr>\n",
       "  </tbody>\n",
       "</table>\n",
       "</div>"
      ],
      "text/plain": [
       "       id_left id_right                                          text_left  \\\n",
       "18623    10024    12018  How do I reset my Gmail password when I don't ...   \n",
       "36292    10024    27456  How do I reset my Gmail password when I don't ...   \n",
       "54955    10024    64009  How do I reset my Gmail password when I don't ...   \n",
       "113459   10024    29590  How do I reset my Gmail password when I don't ...   \n",
       "117166   10024    61676  How do I reset my Gmail password when I don't ...   \n",
       "139644   10024   159258  How do I reset my Gmail password when I don't ...   \n",
       "198999   10024    21153  How do I reset my Gmail password when I don't ...   \n",
       "261942   10024   115735  How do I reset my Gmail password when I don't ...   \n",
       "288171   10024   143891  How do I reset my Gmail password when I don't ...   \n",
       "291969   10024    23752  How do I reset my Gmail password when I don't ...   \n",
       "311485   10024    10382  How do I reset my Gmail password when I don't ...   \n",
       "356474   10024    37121  How do I reset my Gmail password when I don't ...   \n",
       "359690   10024      117  How do I reset my Gmail password when I don't ...   \n",
       "360646   10024     3875  How do I reset my Gmail password when I don't ...   \n",
       "\n",
       "                                               text_right  label  \n",
       "18623   How can I reset my Gmail password when I don't...      1  \n",
       "36292   I forgot my Gmail password and I can't answer ...      1  \n",
       "54955   How can I add a recovery phone number to my Gm...      1  \n",
       "113459  How do I reset my Instagram password if I put ...      0  \n",
       "117166  How do I reset my password to Gmail without my...      1  \n",
       "139644  I forgot my Facebook password. I don't remembe...      0  \n",
       "198999  How can I reset my Gmail password if I don't r...      1  \n",
       "261942  How can I reset my Gmail password without know...      1  \n",
       "288171  How can I access my Gmail account if I don't r...      1  \n",
       "291969  How do I reset my Gmail password when I don't ...      1  \n",
       "311485  I forgot my Facebook password and email passwo...      0  \n",
       "356474  How do you rest your rescue password if you do...      1  \n",
       "359690  I was suddenly logged off Gmail. I can't remem...      1  \n",
       "360646  With a forgotten Gmail password, how do you fi...      1  "
      ]
     },
     "execution_count": 8,
     "metadata": {},
     "output_type": "execute_result"
    }
   ],
   "source": [
    "train_df[train_df['id_left']=='10024']"
   ]
  },
  {
   "cell_type": "markdown",
   "metadata": {},
   "source": [
    "Validation pairs has 3 targets:\n",
    "- left_id | relevant question from the same group | 2.0 target\n",
    "- left_id | irrelevant question from the same group | 1.0 target\n",
    "- left_id | irrelevant question from entire data | 0.0 target"
   ]
  },
  {
   "cell_type": "code",
   "execution_count": 11,
   "metadata": {},
   "outputs": [
    {
     "name": "stdout",
     "output_type": "stream",
     "text": [
      "CPU times: total: 16 s\n",
      "Wall time: 1min 22s\n"
     ]
    }
   ],
   "source": [
    "%%time\n",
    "val_pairs = ValPairsDataset.create_val_pairs(val_df, fill_top_to=15, min_group_size=2, seed=0)"
   ]
  },
  {
   "attachments": {},
   "cell_type": "markdown",
   "metadata": {},
   "source": [
    "For every __id_left group__ we have to properly rank groups described above. If there less then 15 rows in group, it will be filled to 15 with random examples with relevancy 0 to __id_left question__"
   ]
  },
  {
   "cell_type": "code",
   "execution_count": 14,
   "metadata": {},
   "outputs": [
    {
     "data": {
      "text/plain": [
       "[['100141', '75743', 2],\n",
       " ['100141', '100142', 2],\n",
       " ['100141', '147228', 0],\n",
       " ['100141', '293530', 0],\n",
       " ['100141', '121016', 0]]"
      ]
     },
     "execution_count": 14,
     "metadata": {},
     "output_type": "execute_result"
    }
   ],
   "source": [
    "val_pairs[:5]"
   ]
  },
  {
   "cell_type": "code",
   "execution_count": 15,
   "metadata": {},
   "outputs": [
    {
     "data": {
      "text/html": [
       "<div>\n",
       "<style scoped>\n",
       "    .dataframe tbody tr th:only-of-type {\n",
       "        vertical-align: middle;\n",
       "    }\n",
       "\n",
       "    .dataframe tbody tr th {\n",
       "        vertical-align: top;\n",
       "    }\n",
       "\n",
       "    .dataframe thead th {\n",
       "        text-align: right;\n",
       "    }\n",
       "</style>\n",
       "<table border=\"1\" class=\"dataframe\">\n",
       "  <thead>\n",
       "    <tr style=\"text-align: right;\">\n",
       "      <th></th>\n",
       "      <th>id_left</th>\n",
       "      <th>id_right</th>\n",
       "      <th>text_left</th>\n",
       "      <th>text_right</th>\n",
       "      <th>label</th>\n",
       "    </tr>\n",
       "  </thead>\n",
       "  <tbody>\n",
       "    <tr>\n",
       "      <th>13278</th>\n",
       "      <td>100141</td>\n",
       "      <td>75743</td>\n",
       "      <td>What should I shouldn't do when visiting your ...</td>\n",
       "      <td>What should I absolutely not do when visiting ...</td>\n",
       "      <td>1</td>\n",
       "    </tr>\n",
       "    <tr>\n",
       "      <th>22909</th>\n",
       "      <td>100141</td>\n",
       "      <td>100142</td>\n",
       "      <td>What should I shouldn't do when visiting your ...</td>\n",
       "      <td>What things should I not do when visiting your...</td>\n",
       "      <td>1</td>\n",
       "    </tr>\n",
       "  </tbody>\n",
       "</table>\n",
       "</div>"
      ],
      "text/plain": [
       "      id_left id_right                                          text_left  \\\n",
       "13278  100141    75743  What should I shouldn't do when visiting your ...   \n",
       "22909  100141   100142  What should I shouldn't do when visiting your ...   \n",
       "\n",
       "                                              text_right  label  \n",
       "13278  What should I absolutely not do when visiting ...      1  \n",
       "22909  What things should I not do when visiting your...      1  "
      ]
     },
     "execution_count": 15,
     "metadata": {},
     "output_type": "execute_result"
    }
   ],
   "source": [
    "val_df[val_df['id_left']=='100141']"
   ]
  },
  {
   "cell_type": "code",
   "execution_count": null,
   "metadata": {},
   "outputs": [],
   "source": []
  }
 ],
 "metadata": {
  "kernelspec": {
   "display_name": ".venv",
   "language": "python",
   "name": "python3"
  },
  "language_info": {
   "codemirror_mode": {
    "name": "ipython",
    "version": 3
   },
   "file_extension": ".py",
   "mimetype": "text/x-python",
   "name": "python",
   "nbconvert_exporter": "python",
   "pygments_lexer": "ipython3",
   "version": "3.9.7"
  },
  "orig_nbformat": 4,
  "vscode": {
   "interpreter": {
    "hash": "92842f9dd492c40e6b909af2db934e37cdd29a62e6ee90ddfc29a823a33fb818"
   }
  }
 },
 "nbformat": 4,
 "nbformat_minor": 2
}
