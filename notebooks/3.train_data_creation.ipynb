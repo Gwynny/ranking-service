{
 "cells": [
  {
   "cell_type": "code",
   "execution_count": 1,
   "metadata": {},
   "outputs": [],
   "source": [
    "import itertools\n",
    "import os\n",
    "import numpy as np\n",
    "import pandas as pd\n",
    "from typing import List, Union"
   ]
  },
  {
   "cell_type": "code",
   "execution_count": 14,
   "metadata": {},
   "outputs": [],
   "source": [
    "def get_glue_df(glue_df) -> pd.DataFrame:\n",
    "    glue_df = glue_df.dropna(axis=0, how='any').reset_index(drop=True)\n",
    "    glue_df_fin = pd.DataFrame({\n",
    "        'id_left': glue_df['qid1'],\n",
    "        'id_right': glue_df['qid2'],\n",
    "        'text_left': glue_df['question1'],\n",
    "        'text_right': glue_df['question2'],\n",
    "        'label': glue_df['is_duplicate'].astype(int)\n",
    "    })\n",
    "    return glue_df_fin"
   ]
  },
  {
   "cell_type": "code",
   "execution_count": 15,
   "metadata": {},
   "outputs": [],
   "source": [
    "parent_dir = os.path.abspath(os.path.join('', os.pardir))\n",
    "train_df = pd.read_csv(parent_dir + '/data/raw/QQP/train.tsv', sep='\\t')\n",
    "train_df = get_glue_df(train_df)"
   ]
  },
  {
   "cell_type": "code",
   "execution_count": 16,
   "metadata": {},
   "outputs": [],
   "source": [
    "def sample_data_for_train_step(inp_df: pd.DataFrame,\n",
    "                            seed: int) -> List[List[Union[str, float]]]:\n",
    "    np.random.seed(seed)\n",
    "    NUM_ZERO_ONE_REL_PAIRS = 4\n",
    "    NUM_EQUAL_REL_PAIRS = 2\n",
    "    inp_df_select = inp_df[['id_left', 'id_right', 'label']]\n",
    "    inf_df_group_sizes = inp_df_select.groupby('id_left').size()\n",
    "    train_leftids_to_use = list(inf_df_group_sizes[inf_df_group_sizes >= 3].index)\n",
    "    groups = inp_df_select[inp_df_select.id_left.isin(train_leftids_to_use)].groupby('id_left')\n",
    "\n",
    "    out_triplets = []\n",
    "    for id_left, group in groups:\n",
    "        if group['label'].sum() == 0:\n",
    "            continue\n",
    "        ones_df = group[group['label'] == 1]\n",
    "        zeros_df = group[group['label'] == 0]\n",
    "\n",
    "        if len(zeros_df) > 1:\n",
    "            ones_ids = ones_df['id_right'].to_list()\n",
    "            zeros_ids = zeros_df['id_right'].to_list()\n",
    "            zero_one_permutations = [(one_id, zero_id) for one_id in ones_ids for zero_id in zeros_ids]\n",
    "            np.random.shuffle(zero_one_permutations)\n",
    "            for ids in zero_one_permutations[:NUM_ZERO_ONE_REL_PAIRS]:\n",
    "                out_triplets.append([id_left, ids[0], ids[1], 1.0])\n",
    "\n",
    "            zeros_ids_permutations = list(itertools.combinations(zeros_ids, 2))\n",
    "            np.random.shuffle(zeros_ids_permutations)\n",
    "            for ids in zeros_ids_permutations[:NUM_EQUAL_REL_PAIRS]:\n",
    "                out_triplets.append([id_left, ids[0], ids[1], 0.5])\n",
    "    return out_triplets"
   ]
  },
  {
   "cell_type": "code",
   "execution_count": 17,
   "metadata": {},
   "outputs": [
    {
     "name": "stdout",
     "output_type": "stream",
     "text": [
      "CPU times: total: 5.67 s\n",
      "Wall time: 5.68 s\n"
     ]
    }
   ],
   "source": [
    "%%time\n",
    "triplets = sample_data_for_train_step(train_df, 0)"
   ]
  },
  {
   "cell_type": "code",
   "execution_count": 18,
   "metadata": {},
   "outputs": [
    {
     "data": {
      "text/plain": [
       "6535"
      ]
     },
     "execution_count": 18,
     "metadata": {},
     "output_type": "execute_result"
    }
   ],
   "source": [
    "len(triplets)"
   ]
  },
  {
   "cell_type": "code",
   "execution_count": 30,
   "metadata": {},
   "outputs": [
    {
     "data": {
      "text/plain": [
       "[[57, 55585, 58, 1.0],\n",
       " [57, 35933, 58, 1.0],\n",
       " [57, 6800, 58, 1.0],\n",
       " [57, 28280, 174911, 1.0],\n",
       " [57, 58, 174911, 0.5],\n",
       " [119, 64307, 120, 1.0]]"
      ]
     },
     "execution_count": 30,
     "metadata": {},
     "output_type": "execute_result"
    }
   ],
   "source": [
    "triplets[:6]"
   ]
  },
  {
   "attachments": {},
   "cell_type": "markdown",
   "metadata": {},
   "source": [
    "##### Everything is fine. 55585 is more relevant to 57 than 58 so we labeled it with 1.0 relevancy."
   ]
  },
  {
   "cell_type": "code",
   "execution_count": 28,
   "metadata": {},
   "outputs": [
    {
     "data": {
      "text/html": [
       "<div>\n",
       "<style scoped>\n",
       "    .dataframe tbody tr th:only-of-type {\n",
       "        vertical-align: middle;\n",
       "    }\n",
       "\n",
       "    .dataframe tbody tr th {\n",
       "        vertical-align: top;\n",
       "    }\n",
       "\n",
       "    .dataframe thead th {\n",
       "        text-align: right;\n",
       "    }\n",
       "</style>\n",
       "<table border=\"1\" class=\"dataframe\">\n",
       "  <thead>\n",
       "    <tr style=\"text-align: right;\">\n",
       "      <th></th>\n",
       "      <th>id_left</th>\n",
       "      <th>id_right</th>\n",
       "      <th>text_left</th>\n",
       "      <th>text_right</th>\n",
       "      <th>label</th>\n",
       "    </tr>\n",
       "  </thead>\n",
       "  <tbody>\n",
       "    <tr>\n",
       "      <th>66948</th>\n",
       "      <td>57</td>\n",
       "      <td>55585</td>\n",
       "      <td>What is best way to make money online?</td>\n",
       "      <td>What is the best way for making money online?</td>\n",
       "      <td>1</td>\n",
       "    </tr>\n",
       "    <tr>\n",
       "      <th>154537</th>\n",
       "      <td>57</td>\n",
       "      <td>58</td>\n",
       "      <td>What is best way to make money online?</td>\n",
       "      <td>What is best way to ask for money online?</td>\n",
       "      <td>0</td>\n",
       "    </tr>\n",
       "  </tbody>\n",
       "</table>\n",
       "</div>"
      ],
      "text/plain": [
       "        id_left  id_right                               text_left  \\\n",
       "66948        57     55585  What is best way to make money online?   \n",
       "154537       57        58  What is best way to make money online?   \n",
       "\n",
       "                                           text_right  label  \n",
       "66948   What is the best way for making money online?      1  \n",
       "154537      What is best way to ask for money online?      0  "
      ]
     },
     "execution_count": 28,
     "metadata": {},
     "output_type": "execute_result"
    }
   ],
   "source": [
    "train_df[(train_df['id_left']==57) & (train_df['id_right'].isin([55585, 58]))]"
   ]
  },
  {
   "attachments": {},
   "cell_type": "markdown",
   "metadata": {},
   "source": [
    "##### Finalized versions of scripts responsible for Train and Validation Datasets creation are available in src/data/make_dataset.py"
   ]
  },
  {
   "cell_type": "code",
   "execution_count": null,
   "metadata": {},
   "outputs": [],
   "source": []
  }
 ],
 "metadata": {
  "kernelspec": {
   "display_name": ".venv",
   "language": "python",
   "name": "python3"
  },
  "language_info": {
   "codemirror_mode": {
    "name": "ipython",
    "version": 3
   },
   "file_extension": ".py",
   "mimetype": "text/x-python",
   "name": "python",
   "nbconvert_exporter": "python",
   "pygments_lexer": "ipython3",
   "version": "3.9.7"
  },
  "orig_nbformat": 4,
  "vscode": {
   "interpreter": {
    "hash": "92842f9dd492c40e6b909af2db934e37cdd29a62e6ee90ddfc29a823a33fb818"
   }
  }
 },
 "nbformat": 4,
 "nbformat_minor": 2
}
