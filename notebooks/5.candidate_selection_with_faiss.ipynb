{
 "cells": [
  {
   "cell_type": "code",
   "execution_count": 2,
   "metadata": {},
   "outputs": [
    {
     "name": "stderr",
     "output_type": "stream",
     "text": [
      "c:\\Users\\gwyn\\Documents\\GitHub\\ranking_service\\.venv\\lib\\site-packages\\tqdm\\auto.py:21: TqdmWarning: IProgress not found. Please update jupyter and ipywidgets. See https://ipywidgets.readthedocs.io/en/stable/user_install.html\n",
      "  from .autonotebook import tqdm as notebook_tqdm\n"
     ]
    }
   ],
   "source": [
    "import faiss\n",
    "import json\n",
    "import mlflow\n",
    "import os\n",
    "import torch\n",
    "import numpy as np\n",
    "from src.data.text_retriever import TextRetriever\n",
    "from src.models.knrm_model import KNRM"
   ]
  },
  {
   "cell_type": "code",
   "execution_count": 3,
   "metadata": {},
   "outputs": [],
   "source": [
    "PARENT_DIR = os.path.abspath(os.path.join('', os.pardir))\n",
    "DOCUMENTS_PATH = PARENT_DIR + '/data/processed/documents.json'\n",
    "ML_RUNS_PATH = PARENT_DIR + '/models/ml_runs/'\n",
    "\n",
    "with open(DOCUMENTS_PATH) as f:\n",
    "    documents = json.load(f)\n",
    "\n",
    "if mlflow.get_tracking_uri() != 'file:///' + ML_RUNS_PATH:\n",
    "    mlflow.set_tracking_uri('file:///' + ML_RUNS_PATH)\n",
    "EXP_ID = mlflow.get_experiment_by_name('QuoraRankingExtendedTraining').experiment_id\n",
    "RUN_ID = mlflow.search_runs(experiment_ids=[EXP_ID])['run_id'][0]\n",
    "\n",
    "MODEL_URI = \"runs:/{}/model\".format(RUN_ID)\n",
    "VOCAB_URI = \"runs:/{}/vocab\".format(RUN_ID)\n",
    "knrm = mlflow.pytorch.load_model(MODEL_URI)\n",
    "vocab = mlflow.artifacts.load_dict(VOCAB_URI)"
   ]
  },
  {
   "cell_type": "code",
   "execution_count": 4,
   "metadata": {},
   "outputs": [
    {
     "data": {
      "text/plain": [
       "537916"
      ]
     },
     "execution_count": 4,
     "metadata": {},
     "output_type": "execute_result"
    }
   ],
   "source": [
    "len(documents)"
   ]
  },
  {
   "cell_type": "code",
   "execution_count": 5,
   "metadata": {},
   "outputs": [],
   "source": [
    "idxs, docs = [], []\n",
    "for idx in documents:\n",
    "    idxs.append(int(idx))\n",
    "    docs.append(documents[idx])"
   ]
  },
  {
   "cell_type": "code",
   "execution_count": 6,
   "metadata": {},
   "outputs": [],
   "source": [
    "embeddings = []\n",
    "oov_val = vocab['OOV']\n",
    "tr = TextRetriever()\n",
    "emb_layer = knrm.embeddings.state_dict()['weight']\n",
    "for d in docs:\n",
    "    tmp_emb = [vocab.get(w, oov_val) for w in tr.lower_and_tokenize_words(d)]\n",
    "    tmp_emb = emb_layer[tmp_emb].mean(dim=0)\n",
    "    embeddings.append(np.array(tmp_emb))\n",
    "\n",
    "embeddings = np.array([embedding for embedding in embeddings]).astype(np.float32)"
   ]
  },
  {
   "cell_type": "code",
   "execution_count": 7,
   "metadata": {},
   "outputs": [
    {
     "data": {
      "text/plain": [
       "50"
      ]
     },
     "execution_count": 7,
     "metadata": {},
     "output_type": "execute_result"
    }
   ],
   "source": [
    "embeddings.shape[1]"
   ]
  },
  {
   "cell_type": "code",
   "execution_count": 60,
   "metadata": {},
   "outputs": [],
   "source": [
    "index = faiss.IndexFlatL2(embeddings.shape[1])\n",
    "index = faiss.IndexIDMap(index)\n",
    "index.add_with_ids(embeddings, np.array(idxs))"
   ]
  },
  {
   "cell_type": "code",
   "execution_count": 10,
   "metadata": {},
   "outputs": [
    {
     "name": "stdout",
     "output_type": "stream",
     "text": [
      "111886618\n"
     ]
    }
   ],
   "source": [
    "def get_memory(index):\n",
    "    faiss.write_index(index, './temp.index')\n",
    "    file_size = os.path.getsize('./temp.index')\n",
    "    os.remove('./temp.index')\n",
    "    return file_size\n",
    "\n",
    "print(get_memory(index))"
   ]
  },
  {
   "cell_type": "code",
   "execution_count": 62,
   "metadata": {},
   "outputs": [],
   "source": [
    "query = 'What doctor should I visit if I broke my leg?'\n",
    "\n",
    "q_vector = [vocab.get(token, oov_val) for token in tr.lower_and_tokenize_words(query)]\n",
    "q_emb = emb_layer[q_vector].mean(dim=0).reshape(1, -1)\n",
    "q_emb = np.array(q_emb).astype(np.float32)"
   ]
  },
  {
   "cell_type": "code",
   "execution_count": 53,
   "metadata": {},
   "outputs": [],
   "source": [
    "_, I = index.search(q_emb, k=100)"
   ]
  },
  {
   "cell_type": "code",
   "execution_count": 54,
   "metadata": {},
   "outputs": [],
   "source": [
    "def text_to_token_ids(text_list, vocab):\n",
    "    tokenized, max_len = [], 30\n",
    "    for text in text_list:\n",
    "        tokenized_text = tr.lower_and_tokenize_words(text)[:max_len]\n",
    "        token_idxs = [vocab.get(i, vocab[\"OOV\"]) for i in tokenized_text]\n",
    "        tokenized.append(token_idxs)\n",
    "    tokenized = [elem + [0] * (max_len - len(elem)) for elem in tokenized]\n",
    "    tokenized = torch.LongTensor(tokenized)\n",
    "    return tokenized"
   ]
  },
  {
   "cell_type": "code",
   "execution_count": 55,
   "metadata": {},
   "outputs": [],
   "source": [
    "cands = [(str(i), documents[str(i)]) for i in I[0] if i != -1]\n",
    "inputs = dict()\n",
    "inputs['query'] = text_to_token_ids([query] * len(cands), vocab)\n",
    "inputs['document'] = text_to_token_ids([cnd[1] for cnd in cands], vocab)\n",
    "scores = knrm.predict(inputs)"
   ]
  },
  {
   "cell_type": "code",
   "execution_count": 56,
   "metadata": {},
   "outputs": [],
   "source": [
    "res_ids = scores.reshape(-1).argsort(descending=True)\n",
    "res_ids = res_ids[:10]\n",
    "res = [cands[i] for i in res_ids.tolist()]"
   ]
  },
  {
   "cell_type": "code",
   "execution_count": 57,
   "metadata": {},
   "outputs": [
    {
     "data": {
      "text/plain": [
       "('What doctor should I visit if I broke my leg?',\n",
       " [('295074',\n",
       "   'My crush said he likes me, but he also likes this other girl. He knows I like him. I told him if he chooses her its okay. What should I do?'),\n",
       "  ('475642',\n",
       "   \"I broke up with my boyfriend of 3 years because he never had time for me and never called me. When I would call, he would cut my call saying he was very busy even if he wasn't. My mother also hates him. I still like him a lot. Did I do the right thing?\"),\n",
       "  ('150738',\n",
       "   'I ask for a second chance from my girlfriend she rejected me, it is still possible to ask again? How long should I wait until I can ask her again?'),\n",
       "  ('326864',\n",
       "   'What should I do when I told my boyfriend to let me know if he wants to grab dinner later on and he went with his friend instead?'),\n",
       "  ('246895',\n",
       "   'We broke up like a year ago because she cheated on me, I am going to meet her in a week. I still love her. What should I do?'),\n",
       "  ('535839',\n",
       "   'My best friend cried when I told her how I felt. She then rejected me so I asked for time to think. Should I wait till she tries to contact me?'),\n",
       "  ('375121',\n",
       "   'My guy friend confessed that he loves me but the next day he asks me will I have any problem if he goes back to his ex. What is he upto?'),\n",
       "  ('253742',\n",
       "   'My ex hesitates when I ask him if he wants to be with me again. I messaged him a lot and had emotional issues. Is the break up my fault?'),\n",
       "  ('207461',\n",
       "   \"I had a terrible fight with my mother. She's really mad at me. Now, I realise that it was my fault after all. What should I do?\"),\n",
       "  ('475032',\n",
       "   'A girl friend rejected me after confessing that I like her. I told her I cannot be her friend anymore. did I ruin my chances if she changes her mind?')])"
      ]
     },
     "execution_count": 57,
     "metadata": {},
     "output_type": "execute_result"
    }
   ],
   "source": [
    "query, res"
   ]
  },
  {
   "cell_type": "code",
   "execution_count": null,
   "metadata": {},
   "outputs": [],
   "source": []
  }
 ],
 "metadata": {
  "kernelspec": {
   "display_name": "Python 3 (ipykernel)",
   "language": "python",
   "name": "python3"
  },
  "language_info": {
   "codemirror_mode": {
    "name": "ipython",
    "version": 3
   },
   "file_extension": ".py",
   "mimetype": "text/x-python",
   "name": "python",
   "nbconvert_exporter": "python",
   "pygments_lexer": "ipython3",
   "version": "3.9.7"
  },
  "vscode": {
   "interpreter": {
    "hash": "73fe5d56cd748ae96ed2ac39fb9a89f921657ed8d6f28eadcafdf9d84d668e00"
   }
  }
 },
 "nbformat": 4,
 "nbformat_minor": 2
}
