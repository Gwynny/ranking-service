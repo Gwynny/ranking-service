{
 "cells": [
  {
   "cell_type": "code",
   "execution_count": 1,
   "metadata": {},
   "outputs": [
    {
     "name": "stderr",
     "output_type": "stream",
     "text": [
      "c:\\Users\\gwyn\\Documents\\GitHub\\ranking_service\\.venv\\lib\\site-packages\\tqdm\\auto.py:21: TqdmWarning: IProgress not found. Please update jupyter and ipywidgets. See https://ipywidgets.readthedocs.io/en/stable/user_install.html\n",
      "  from .autonotebook import tqdm as notebook_tqdm\n"
     ]
    }
   ],
   "source": [
    "import json\n",
    "import optuna\n",
    "import os\n",
    "import torch\n",
    "from src.models.evaluate import check_ndcg_on_val_set\n",
    "from src.models.train import TrainKNRM"
   ]
  },
  {
   "cell_type": "code",
   "execution_count": 2,
   "metadata": {},
   "outputs": [],
   "source": [
    "PARENT_DIR = os.path.abspath(os.path.join('', os.pardir))\n",
    "TRAIN_PATH = PARENT_DIR + '/data/raw/QQP/train.tsv'\n",
    "VAL_PATH = PARENT_DIR + '/data/raw/QQP/dev.tsv'\n",
    "GLOVE_PATH = PARENT_DIR + '/data/raw/glove.6B.50d.txt'"
   ]
  },
  {
   "cell_type": "code",
   "execution_count": 3,
   "metadata": {},
   "outputs": [],
   "source": [
    "def objective(trial, train_path=TRAIN_PATH, val_path=VAL_PATH, glove_path=GLOVE_PATH):\n",
    "    params = {\n",
    "        'freeze_emb': trial.suggest_categorical('freeze_emb', [False, True]),\n",
    "        'min_token_occurancies': trial.suggest_categorical('min_token_occurancies', [1, 2]),\n",
    "        'num_kernels': trial.suggest_categorical('num_kernels', list(range(10, 25))),\n",
    "        'sigma': trial.suggest_float('sigma', 1e-4, 1e-1),\n",
    "        'lr': trial.suggest_float('lr', 1e-2, 6e-2),\n",
    "        'num_pos_ex': trial.suggest_categorical('num_pos_ex', [2, 3, 4]),\n",
    "        'num_same_rel_ex': trial.suggest_categorical('num_same_rel_ex', [2, 3, 4]),\n",
    "    }\n",
    "    \n",
    "    model = TrainKNRM(train_path=train_path, val_path=val_path, glove_path=glove_path,\n",
    "                      random_vec_bound=1.0, out_layers=[], seed=0, num_epochs=9,\n",
    "                      batch_size=1024, change_every_num_ep=10, **params)\n",
    "    model.get_ready_for_train()\n",
    "    model.fit()\n",
    "    val_ndcg = check_ndcg_on_val_set(model.knrm, model.val_dataloader)\n",
    "    return val_ndcg"
   ]
  },
  {
   "cell_type": "code",
   "execution_count": 4,
   "metadata": {},
   "outputs": [
    {
     "name": "stderr",
     "output_type": "stream",
     "text": [
      "\u001b[32m[I 2023-03-24 17:08:38,297]\u001b[0m A new study created in memory with name: no-name-97328a4f-e45b-48c8-b7a1-f3d98d35b290\u001b[0m\n"
     ]
    },
    {
     "name": "stdout",
     "output_type": "stream",
     "text": [
      "Epoch: 0, validation ndcg 0.4999908658236024\n",
      "Epoch: 1, validation ndcg 0.5408568331823683\n",
      "Epoch: 2, validation ndcg 0.6078280302676119\n",
      "Epoch: 3, validation ndcg 0.6972278865509562\n",
      "Epoch: 4, validation ndcg 0.7654122405038731\n",
      "Epoch: 5, validation ndcg 0.7939163805685272\n",
      "Epoch: 6, validation ndcg 0.8208769793682593\n",
      "Epoch: 7, validation ndcg 0.8421623581951306\n",
      "Epoch: 8, validation ndcg 0.8569277655727069\n"
     ]
    },
    {
     "name": "stderr",
     "output_type": "stream",
     "text": [
      "\u001b[32m[I 2023-03-24 17:14:33,250]\u001b[0m Trial 0 finished with value: 0.8569277655727069 and parameters: {'freeze_emb': False, 'min_token_occurancies': 1, 'num_kernels': 18, 'sigma': 0.02919610084991252, 'lr': 0.01789777003586229, 'num_pos_ex': 4, 'num_same_rel_ex': 2}. Best is trial 0 with value: 0.8569277655727069.\u001b[0m\n"
     ]
    },
    {
     "name": "stdout",
     "output_type": "stream",
     "text": [
      "Epoch: 0, validation ndcg 0.6910064902423401\n",
      "Epoch: 1, validation ndcg 0.7536045953860123\n",
      "Epoch: 2, validation ndcg 0.7867215964391047\n",
      "Epoch: 3, validation ndcg 0.8057299715222321\n",
      "Epoch: 4, validation ndcg 0.8181194595037061\n",
      "Epoch: 5, validation ndcg 0.8134855432719692\n",
      "Epoch: 6, validation ndcg 0.8236075069646928\n",
      "Epoch: 7, validation ndcg 0.8000949431178515\n",
      "Epoch: 8, validation ndcg 0.8239285272041342\n"
     ]
    },
    {
     "name": "stderr",
     "output_type": "stream",
     "text": [
      "\u001b[32m[I 2023-03-24 17:20:01,460]\u001b[0m Trial 1 finished with value: 0.8239285272041342 and parameters: {'freeze_emb': False, 'min_token_occurancies': 1, 'num_kernels': 10, 'sigma': 0.06658337489032985, 'lr': 0.03293379269262377, 'num_pos_ex': 3, 'num_same_rel_ex': 3}. Best is trial 0 with value: 0.8569277655727069.\u001b[0m\n"
     ]
    },
    {
     "name": "stdout",
     "output_type": "stream",
     "text": [
      "Epoch: 0, validation ndcg 0.5462126999137429\n",
      "Epoch: 1, validation ndcg 0.5835551129638429\n",
      "Epoch: 2, validation ndcg 0.6299016394466223\n",
      "Epoch: 3, validation ndcg 0.6713568987053395\n",
      "Epoch: 4, validation ndcg 0.7104609191727518\n",
      "Epoch: 5, validation ndcg 0.7434487869679933\n",
      "Epoch: 6, validation ndcg 0.7638235546933912\n",
      "Epoch: 7, validation ndcg 0.7835979377126969\n",
      "Epoch: 8, validation ndcg 0.8041134924868433\n"
     ]
    },
    {
     "name": "stderr",
     "output_type": "stream",
     "text": [
      "\u001b[32m[I 2023-03-24 17:25:55,637]\u001b[0m Trial 2 finished with value: 0.8041134924868433 and parameters: {'freeze_emb': True, 'min_token_occurancies': 1, 'num_kernels': 21, 'sigma': 0.033648331994969895, 'lr': 0.016713026153585005, 'num_pos_ex': 2, 'num_same_rel_ex': 3}. Best is trial 0 with value: 0.8569277655727069.\u001b[0m\n"
     ]
    },
    {
     "name": "stdout",
     "output_type": "stream",
     "text": [
      "Epoch: 0, validation ndcg 0.7071913493247128\n",
      "Epoch: 1, validation ndcg 0.7805024414731012\n",
      "Epoch: 2, validation ndcg 0.8029391720686986\n",
      "Epoch: 3, validation ndcg 0.8325072245645103\n",
      "Epoch: 4, validation ndcg 0.84330078890516\n",
      "Epoch: 5, validation ndcg 0.8092954433292243\n",
      "Epoch: 6, validation ndcg 0.8085583177698248\n",
      "Epoch: 7, validation ndcg 0.8458482474219322\n",
      "Epoch: 8, validation ndcg 0.8215980209018787\n"
     ]
    },
    {
     "name": "stderr",
     "output_type": "stream",
     "text": [
      "\u001b[32m[I 2023-03-24 17:31:13,283]\u001b[0m Trial 3 finished with value: 0.8215980209018787 and parameters: {'freeze_emb': True, 'min_token_occurancies': 2, 'num_kernels': 10, 'sigma': 0.06178577554659226, 'lr': 0.04013418892172624, 'num_pos_ex': 3, 'num_same_rel_ex': 2}. Best is trial 0 with value: 0.8569277655727069.\u001b[0m\n"
     ]
    },
    {
     "name": "stdout",
     "output_type": "stream",
     "text": [
      "Epoch: 0, validation ndcg 0.4366095148931582\n",
      "Epoch: 1, validation ndcg 0.6122283300812665\n",
      "Epoch: 2, validation ndcg 0.7258644849190905\n",
      "Epoch: 3, validation ndcg 0.7956836693194993\n",
      "Epoch: 4, validation ndcg 0.8222408565798693\n",
      "Epoch: 5, validation ndcg 0.8346138465177824\n",
      "Epoch: 6, validation ndcg 0.8490149311084162\n",
      "Epoch: 7, validation ndcg 0.8508174474819797\n",
      "Epoch: 8, validation ndcg 0.8332070124548439\n"
     ]
    },
    {
     "name": "stderr",
     "output_type": "stream",
     "text": [
      "\u001b[32m[I 2023-03-24 17:37:02,113]\u001b[0m Trial 4 finished with value: 0.8332070124548439 and parameters: {'freeze_emb': True, 'min_token_occurancies': 2, 'num_kernels': 13, 'sigma': 0.03112178008443607, 'lr': 0.025246562323033545, 'num_pos_ex': 4, 'num_same_rel_ex': 2}. Best is trial 0 with value: 0.8569277655727069.\u001b[0m\n"
     ]
    },
    {
     "name": "stdout",
     "output_type": "stream",
     "text": [
      "Epoch: 0, validation ndcg 0.3140124998833172\n",
      "Epoch: 1, validation ndcg 0.39181881793792056\n",
      "Epoch: 2, validation ndcg 0.446404342201079\n",
      "Epoch: 3, validation ndcg 0.4935780088851667\n",
      "Epoch: 4, validation ndcg 0.5333427874070024\n",
      "Epoch: 5, validation ndcg 0.5885862368623387\n",
      "Epoch: 6, validation ndcg 0.6496882942093846\n",
      "Epoch: 7, validation ndcg 0.6914449070603449\n",
      "Epoch: 8, validation ndcg 0.7250112604670533\n"
     ]
    },
    {
     "name": "stderr",
     "output_type": "stream",
     "text": [
      "\u001b[32m[I 2023-03-24 17:43:19,412]\u001b[0m Trial 5 finished with value: 0.7250112604670533 and parameters: {'freeze_emb': True, 'min_token_occurancies': 1, 'num_kernels': 15, 'sigma': 0.019056836702174427, 'lr': 0.015314650440810547, 'num_pos_ex': 2, 'num_same_rel_ex': 3}. Best is trial 0 with value: 0.8569277655727069.\u001b[0m\n"
     ]
    },
    {
     "name": "stdout",
     "output_type": "stream",
     "text": [
      "Epoch: 0, validation ndcg 0.5456098044278181\n",
      "Epoch: 1, validation ndcg 0.665283700287922\n",
      "Epoch: 2, validation ndcg 0.7011370133267141\n",
      "Epoch: 3, validation ndcg 0.7192229572624221\n",
      "Epoch: 4, validation ndcg 0.7323902399839957\n",
      "Epoch: 5, validation ndcg 0.7460734388510555\n",
      "Epoch: 6, validation ndcg 0.7545258920969709\n",
      "Epoch: 7, validation ndcg 0.7581304314609256\n",
      "Epoch: 8, validation ndcg 0.7649617846972036\n"
     ]
    },
    {
     "name": "stderr",
     "output_type": "stream",
     "text": [
      "\u001b[32m[I 2023-03-24 17:49:10,659]\u001b[0m Trial 6 finished with value: 0.7649617846972036 and parameters: {'freeze_emb': True, 'min_token_occurancies': 1, 'num_kernels': 10, 'sigma': 0.014494242075363178, 'lr': 0.011447205881410134, 'num_pos_ex': 3, 'num_same_rel_ex': 4}. Best is trial 0 with value: 0.8569277655727069.\u001b[0m\n"
     ]
    },
    {
     "name": "stdout",
     "output_type": "stream",
     "text": [
      "Epoch: 0, validation ndcg 0.7395042532236352\n",
      "Epoch: 1, validation ndcg 0.8099356994958518\n",
      "Epoch: 2, validation ndcg 0.8335159835661999\n",
      "Epoch: 3, validation ndcg 0.8230621674238575\n",
      "Epoch: 4, validation ndcg 0.8339652851643591\n",
      "Epoch: 5, validation ndcg 0.808897446869677\n",
      "Epoch: 6, validation ndcg 0.8425196062145367\n",
      "Epoch: 7, validation ndcg 0.8219520310707944\n",
      "Epoch: 8, validation ndcg 0.8388110438134614\n"
     ]
    },
    {
     "name": "stderr",
     "output_type": "stream",
     "text": [
      "\u001b[32m[I 2023-03-24 17:54:28,425]\u001b[0m Trial 7 finished with value: 0.8388110438134614 and parameters: {'freeze_emb': True, 'min_token_occurancies': 2, 'num_kernels': 10, 'sigma': 0.09641201945728675, 'lr': 0.04367125657119838, 'num_pos_ex': 4, 'num_same_rel_ex': 2}. Best is trial 0 with value: 0.8569277655727069.\u001b[0m\n"
     ]
    },
    {
     "name": "stdout",
     "output_type": "stream",
     "text": [
      "Epoch: 0, validation ndcg 0.46966811515041856\n",
      "Epoch: 1, validation ndcg 0.6045862457283313\n",
      "Epoch: 2, validation ndcg 0.7525403786347759\n",
      "Epoch: 3, validation ndcg 0.8245916664385019\n",
      "Epoch: 4, validation ndcg 0.8692841554681817\n",
      "Epoch: 5, validation ndcg 0.8662210138102927\n",
      "Epoch: 6, validation ndcg 0.8632084164710533\n",
      "Epoch: 7, validation ndcg 0.87099092757768\n",
      "Epoch: 8, validation ndcg 0.8570790655508024\n"
     ]
    },
    {
     "name": "stderr",
     "output_type": "stream",
     "text": [
      "\u001b[32m[I 2023-03-24 18:00:32,873]\u001b[0m Trial 8 finished with value: 0.8570790655508024 and parameters: {'freeze_emb': False, 'min_token_occurancies': 1, 'num_kernels': 17, 'sigma': 0.03170117877576946, 'lr': 0.02852924205694775, 'num_pos_ex': 4, 'num_same_rel_ex': 2}. Best is trial 8 with value: 0.8570790655508024.\u001b[0m\n"
     ]
    },
    {
     "name": "stdout",
     "output_type": "stream",
     "text": [
      "Epoch: 0, validation ndcg 0.7129066441273217\n",
      "Epoch: 1, validation ndcg 0.7176544192873874\n",
      "Epoch: 2, validation ndcg 0.7295938603254527\n",
      "Epoch: 3, validation ndcg 0.7256914529619776\n",
      "Epoch: 4, validation ndcg 0.7098361516102503\n",
      "Epoch: 5, validation ndcg 0.7168689193018689\n",
      "Epoch: 6, validation ndcg 0.7152329294208396\n",
      "Epoch: 7, validation ndcg 0.7210785878251303\n",
      "Epoch: 8, validation ndcg 0.7215900158330673\n"
     ]
    },
    {
     "name": "stderr",
     "output_type": "stream",
     "text": [
      "\u001b[32m[I 2023-03-24 18:06:09,041]\u001b[0m Trial 9 finished with value: 0.7215900158330673 and parameters: {'freeze_emb': False, 'min_token_occurancies': 1, 'num_kernels': 10, 'sigma': 0.0020281368675768427, 'lr': 0.046749067658169045, 'num_pos_ex': 3, 'num_same_rel_ex': 2}. Best is trial 8 with value: 0.8570790655508024.\u001b[0m\n"
     ]
    },
    {
     "name": "stdout",
     "output_type": "stream",
     "text": [
      "Epoch: 0, validation ndcg 0.6904157110000462\n",
      "Epoch: 1, validation ndcg 0.7274941694794896\n",
      "Epoch: 2, validation ndcg 0.7328800555254272\n",
      "Epoch: 3, validation ndcg 0.8449681493911871\n",
      "Epoch: 4, validation ndcg 0.7530766844985178\n",
      "Epoch: 5, validation ndcg 0.6032434270583402\n",
      "Epoch: 6, validation ndcg 0.7328205439862929\n",
      "Epoch: 7, validation ndcg 0.772510884047465\n",
      "Epoch: 8, validation ndcg 0.6789389982009238\n"
     ]
    },
    {
     "name": "stderr",
     "output_type": "stream",
     "text": [
      "\u001b[32m[I 2023-03-24 18:12:08,915]\u001b[0m Trial 10 finished with value: 0.6789389982009238 and parameters: {'freeze_emb': False, 'min_token_occurancies': 1, 'num_kernels': 17, 'sigma': 0.050562647227776876, 'lr': 0.059867339165684624, 'num_pos_ex': 4, 'num_same_rel_ex': 4}. Best is trial 8 with value: 0.8570790655508024.\u001b[0m\n"
     ]
    },
    {
     "name": "stdout",
     "output_type": "stream",
     "text": [
      "Epoch: 0, validation ndcg 0.5155516634450985\n",
      "Epoch: 1, validation ndcg 0.5934097098539428\n",
      "Epoch: 2, validation ndcg 0.7146630649460921\n",
      "Epoch: 3, validation ndcg 0.8015883049383533\n",
      "Epoch: 4, validation ndcg 0.8436361875164362\n",
      "Epoch: 5, validation ndcg 0.8304632317910102\n",
      "Epoch: 6, validation ndcg 0.8480092602408902\n",
      "Epoch: 7, validation ndcg 0.8618223296793275\n",
      "Epoch: 8, validation ndcg 0.8787920857481054\n"
     ]
    },
    {
     "name": "stderr",
     "output_type": "stream",
     "text": [
      "\u001b[32m[I 2023-03-24 18:18:09,124]\u001b[0m Trial 11 finished with value: 0.8787920857481054 and parameters: {'freeze_emb': False, 'min_token_occurancies': 1, 'num_kernels': 18, 'sigma': 0.03513255787175094, 'lr': 0.02263052821483228, 'num_pos_ex': 4, 'num_same_rel_ex': 2}. Best is trial 11 with value: 0.8787920857481054.\u001b[0m\n"
     ]
    },
    {
     "name": "stdout",
     "output_type": "stream",
     "text": [
      "Epoch: 0, validation ndcg 0.5378159728255021\n",
      "Epoch: 1, validation ndcg 0.6698191174082979\n",
      "Epoch: 2, validation ndcg 0.7889056026096435\n",
      "Epoch: 3, validation ndcg 0.8459283260581534\n",
      "Epoch: 4, validation ndcg 0.8634766176817925\n",
      "Epoch: 5, validation ndcg 0.8307357725014931\n",
      "Epoch: 6, validation ndcg 0.8538748729073189\n",
      "Epoch: 7, validation ndcg 0.8659725330430197\n",
      "Epoch: 8, validation ndcg 0.8842465871584155\n"
     ]
    },
    {
     "name": "stderr",
     "output_type": "stream",
     "text": [
      "\u001b[32m[I 2023-03-24 18:24:07,024]\u001b[0m Trial 12 finished with value: 0.8842465871584155 and parameters: {'freeze_emb': False, 'min_token_occurancies': 1, 'num_kernels': 18, 'sigma': 0.04244369635985321, 'lr': 0.026936622928302213, 'num_pos_ex': 4, 'num_same_rel_ex': 2}. Best is trial 12 with value: 0.8842465871584155.\u001b[0m\n"
     ]
    },
    {
     "name": "stdout",
     "output_type": "stream",
     "text": [
      "Epoch: 0, validation ndcg 0.5274884308074719\n",
      "Epoch: 1, validation ndcg 0.6446558779756362\n",
      "Epoch: 2, validation ndcg 0.7706539086123781\n",
      "Epoch: 3, validation ndcg 0.8366608598099837\n",
      "Epoch: 4, validation ndcg 0.8569604109606063\n",
      "Epoch: 5, validation ndcg 0.8315509947095109\n",
      "Epoch: 6, validation ndcg 0.8515447779374934\n",
      "Epoch: 7, validation ndcg 0.8612613202183937\n",
      "Epoch: 8, validation ndcg 0.8829973244307151\n"
     ]
    },
    {
     "name": "stderr",
     "output_type": "stream",
     "text": [
      "\u001b[32m[I 2023-03-24 18:30:05,477]\u001b[0m Trial 13 finished with value: 0.8829973244307151 and parameters: {'freeze_emb': False, 'min_token_occurancies': 1, 'num_kernels': 18, 'sigma': 0.04502620853777602, 'lr': 0.02388062612433616, 'num_pos_ex': 4, 'num_same_rel_ex': 2}. Best is trial 12 with value: 0.8842465871584155.\u001b[0m\n"
     ]
    },
    {
     "name": "stdout",
     "output_type": "stream",
     "text": [
      "Epoch: 0, validation ndcg 0.5630098691998795\n",
      "Epoch: 1, validation ndcg 0.7412720501710279\n",
      "Epoch: 2, validation ndcg 0.8192551880382098\n",
      "Epoch: 3, validation ndcg 0.8588474293885447\n",
      "Epoch: 4, validation ndcg 0.8711406556044119\n",
      "Epoch: 5, validation ndcg 0.8233281901112219\n",
      "Epoch: 6, validation ndcg 0.8540042609483895\n",
      "Epoch: 7, validation ndcg 0.8640411561888508\n",
      "Epoch: 8, validation ndcg 0.884757673239304\n"
     ]
    },
    {
     "name": "stderr",
     "output_type": "stream",
     "text": [
      "\u001b[32m[I 2023-03-24 18:35:59,145]\u001b[0m Trial 14 finished with value: 0.884757673239304 and parameters: {'freeze_emb': False, 'min_token_occurancies': 1, 'num_kernels': 18, 'sigma': 0.050537134338129945, 'lr': 0.031113348263449088, 'num_pos_ex': 4, 'num_same_rel_ex': 2}. Best is trial 14 with value: 0.884757673239304.\u001b[0m\n"
     ]
    },
    {
     "name": "stdout",
     "output_type": "stream",
     "text": [
      "Epoch: 0, validation ndcg 0.40290598987498094\n",
      "Epoch: 1, validation ndcg 0.7234812104723193\n",
      "Epoch: 2, validation ndcg 0.8286585675221333\n",
      "Epoch: 3, validation ndcg 0.8221802132672457\n",
      "Epoch: 4, validation ndcg 0.8262082802508657\n",
      "Epoch: 5, validation ndcg 0.8204710488629066\n",
      "Epoch: 6, validation ndcg 0.8607850738596411\n",
      "Epoch: 7, validation ndcg 0.8440784437800377\n",
      "Epoch: 8, validation ndcg 0.7777695193405296\n"
     ]
    },
    {
     "name": "stderr",
     "output_type": "stream",
     "text": [
      "\u001b[32m[I 2023-03-24 18:41:29,701]\u001b[0m Trial 15 finished with value: 0.7777695193405296 and parameters: {'freeze_emb': False, 'min_token_occurancies': 2, 'num_kernels': 16, 'sigma': 0.06091006542572825, 'lr': 0.03151531312529715, 'num_pos_ex': 4, 'num_same_rel_ex': 4}. Best is trial 14 with value: 0.884757673239304.\u001b[0m\n"
     ]
    },
    {
     "name": "stdout",
     "output_type": "stream",
     "text": [
      "Epoch: 0, validation ndcg 0.7256163158328283\n",
      "Epoch: 1, validation ndcg 0.6571319765697559\n",
      "Epoch: 2, validation ndcg 0.7457355665016988\n",
      "Epoch: 3, validation ndcg 0.7077280483652613\n",
      "Epoch: 4, validation ndcg 0.7860599636295607\n",
      "Epoch: 5, validation ndcg 0.7810276967829258\n",
      "Epoch: 6, validation ndcg 0.7641784787005991\n",
      "Epoch: 7, validation ndcg 0.8142508998109004\n",
      "Epoch: 8, validation ndcg 0.7743898824618262\n"
     ]
    },
    {
     "name": "stderr",
     "output_type": "stream",
     "text": [
      "\u001b[32m[I 2023-03-24 18:47:17,012]\u001b[0m Trial 16 finished with value: 0.7743898824618262 and parameters: {'freeze_emb': False, 'min_token_occurancies': 1, 'num_kernels': 24, 'sigma': 0.07386569059750386, 'lr': 0.03591278124328795, 'num_pos_ex': 2, 'num_same_rel_ex': 2}. Best is trial 14 with value: 0.884757673239304.\u001b[0m\n"
     ]
    },
    {
     "name": "stdout",
     "output_type": "stream",
     "text": [
      "Epoch: 0, validation ndcg 0.6767259188692447\n",
      "Epoch: 1, validation ndcg 0.7468875889337914\n",
      "Epoch: 2, validation ndcg 0.8021819358456931\n",
      "Epoch: 3, validation ndcg 0.7986251210943567\n",
      "Epoch: 4, validation ndcg 0.8474258244069819\n",
      "Epoch: 5, validation ndcg 0.8455745312048858\n",
      "Epoch: 6, validation ndcg 0.8715365270099298\n",
      "Epoch: 7, validation ndcg 0.8699578241189004\n",
      "Epoch: 8, validation ndcg 0.8311341761792491\n"
     ]
    },
    {
     "name": "stderr",
     "output_type": "stream",
     "text": [
      "\u001b[32m[I 2023-03-24 18:53:23,174]\u001b[0m Trial 17 finished with value: 0.8311341761792491 and parameters: {'freeze_emb': False, 'min_token_occurancies': 1, 'num_kernels': 22, 'sigma': 0.045791260405216035, 'lr': 0.026925776390107105, 'num_pos_ex': 4, 'num_same_rel_ex': 2}. Best is trial 14 with value: 0.884757673239304.\u001b[0m\n"
     ]
    },
    {
     "name": "stdout",
     "output_type": "stream",
     "text": [
      "Epoch: 0, validation ndcg 0.46851603301333916\n",
      "Epoch: 1, validation ndcg 0.6279081236834234\n",
      "Epoch: 2, validation ndcg 0.7005904300893309\n",
      "Epoch: 3, validation ndcg 0.7226813540614454\n",
      "Epoch: 4, validation ndcg 0.7977438541199872\n",
      "Epoch: 5, validation ndcg 0.8090954183407806\n",
      "Epoch: 6, validation ndcg 0.835583627566719\n",
      "Epoch: 7, validation ndcg 0.8102514174004826\n",
      "Epoch: 8, validation ndcg 0.8401872396342511\n"
     ]
    },
    {
     "name": "stderr",
     "output_type": "stream",
     "text": [
      "\u001b[32m[I 2023-03-24 18:59:20,559]\u001b[0m Trial 18 finished with value: 0.8401872396342511 and parameters: {'freeze_emb': False, 'min_token_occurancies': 2, 'num_kernels': 19, 'sigma': 0.05213441731452412, 'lr': 0.03480891132322845, 'num_pos_ex': 4, 'num_same_rel_ex': 4}. Best is trial 14 with value: 0.884757673239304.\u001b[0m\n"
     ]
    },
    {
     "name": "stdout",
     "output_type": "stream",
     "text": [
      "Epoch: 0, validation ndcg 0.36976915729901416\n",
      "Epoch: 1, validation ndcg 0.5325709068333946\n",
      "Epoch: 2, validation ndcg 0.692228088538499\n",
      "Epoch: 3, validation ndcg 0.7467202207100445\n",
      "Epoch: 4, validation ndcg 0.7761654818989508\n",
      "Epoch: 5, validation ndcg 0.799121459722008\n",
      "Epoch: 6, validation ndcg 0.807095818214659\n",
      "Epoch: 7, validation ndcg 0.8245286320148809\n",
      "Epoch: 8, validation ndcg 0.8339186344530718\n"
     ]
    },
    {
     "name": "stderr",
     "output_type": "stream",
     "text": [
      "\u001b[32m[I 2023-03-24 19:04:45,464]\u001b[0m Trial 19 finished with value: 0.8339186344530718 and parameters: {'freeze_emb': False, 'min_token_occurancies': 1, 'num_kernels': 14, 'sigma': 0.07509750653602855, 'lr': 0.021565493311945013, 'num_pos_ex': 2, 'num_same_rel_ex': 3}. Best is trial 14 with value: 0.884757673239304.\u001b[0m\n"
     ]
    },
    {
     "name": "stdout",
     "output_type": "stream",
     "text": [
      "Epoch: 0, validation ndcg 0.6276147664778664\n",
      "Epoch: 1, validation ndcg 0.7042737026846781\n",
      "Epoch: 2, validation ndcg 0.7500306718921357\n",
      "Epoch: 3, validation ndcg 0.7728634712977299\n",
      "Epoch: 4, validation ndcg 0.7757254142729538\n",
      "Epoch: 5, validation ndcg 0.7954995184454227\n",
      "Epoch: 6, validation ndcg 0.8098539328774739\n",
      "Epoch: 7, validation ndcg 0.8055479316299091\n",
      "Epoch: 8, validation ndcg 0.8261922665294971\n"
     ]
    },
    {
     "name": "stderr",
     "output_type": "stream",
     "text": [
      "\u001b[32m[I 2023-03-24 19:11:02,452]\u001b[0m Trial 20 finished with value: 0.8261922665294971 and parameters: {'freeze_emb': False, 'min_token_occurancies': 1, 'num_kernels': 23, 'sigma': 0.043350408545146456, 'lr': 0.027850387916877738, 'num_pos_ex': 4, 'num_same_rel_ex': 2}. Best is trial 14 with value: 0.884757673239304.\u001b[0m\n"
     ]
    },
    {
     "name": "stdout",
     "output_type": "stream",
     "text": [
      "Epoch: 0, validation ndcg 0.5193645082538918\n",
      "Epoch: 1, validation ndcg 0.6093287624420354\n",
      "Epoch: 2, validation ndcg 0.7311686151834248\n",
      "Epoch: 3, validation ndcg 0.815285152401234\n",
      "Epoch: 4, validation ndcg 0.8485046123576153\n",
      "Epoch: 5, validation ndcg 0.8304862584406625\n",
      "Epoch: 6, validation ndcg 0.8492969737913927\n",
      "Epoch: 7, validation ndcg 0.8600304532622723\n",
      "Epoch: 8, validation ndcg 0.8793134079951107\n"
     ]
    },
    {
     "name": "stderr",
     "output_type": "stream",
     "text": [
      "\u001b[32m[I 2023-03-24 19:16:58,831]\u001b[0m Trial 21 finished with value: 0.8793134079951107 and parameters: {'freeze_emb': False, 'min_token_occurancies': 1, 'num_kernels': 18, 'sigma': 0.0411502177225315, 'lr': 0.02179746188424296, 'num_pos_ex': 4, 'num_same_rel_ex': 2}. Best is trial 14 with value: 0.884757673239304.\u001b[0m\n"
     ]
    },
    {
     "name": "stdout",
     "output_type": "stream",
     "text": [
      "Epoch: 0, validation ndcg 0.5550054559813599\n",
      "Epoch: 1, validation ndcg 0.734574645050735\n",
      "Epoch: 2, validation ndcg 0.8156568994501834\n",
      "Epoch: 3, validation ndcg 0.8561652963961741\n",
      "Epoch: 4, validation ndcg 0.8689348063487334\n",
      "Epoch: 5, validation ndcg 0.8226695546116163\n",
      "Epoch: 6, validation ndcg 0.8538070697542093\n",
      "Epoch: 7, validation ndcg 0.8634667336493768\n",
      "Epoch: 8, validation ndcg 0.8854371359627972\n"
     ]
    },
    {
     "name": "stderr",
     "output_type": "stream",
     "text": [
      "\u001b[32m[I 2023-03-24 19:22:40,073]\u001b[0m Trial 22 finished with value: 0.8854371359627972 and parameters: {'freeze_emb': False, 'min_token_occurancies': 1, 'num_kernels': 18, 'sigma': 0.053412400073788134, 'lr': 0.02956711289116614, 'num_pos_ex': 4, 'num_same_rel_ex': 2}. Best is trial 22 with value: 0.8854371359627972.\u001b[0m\n"
     ]
    },
    {
     "name": "stdout",
     "output_type": "stream",
     "text": [
      "Epoch: 0, validation ndcg 0.5211779535733554\n",
      "Epoch: 1, validation ndcg 0.6597913426479479\n",
      "Epoch: 2, validation ndcg 0.759928534043926\n",
      "Epoch: 3, validation ndcg 0.8054136349100572\n",
      "Epoch: 4, validation ndcg 0.8403705137643803\n",
      "Epoch: 5, validation ndcg 0.8582787107647402\n",
      "Epoch: 6, validation ndcg 0.8202329588678141\n",
      "Epoch: 7, validation ndcg 0.8709689713457953\n",
      "Epoch: 8, validation ndcg 0.8486875548460024\n"
     ]
    },
    {
     "name": "stderr",
     "output_type": "stream",
     "text": [
      "\u001b[32m[I 2023-03-24 19:28:25,412]\u001b[0m Trial 23 finished with value: 0.8486875548460024 and parameters: {'freeze_emb': False, 'min_token_occurancies': 1, 'num_kernels': 20, 'sigma': 0.05326091932664389, 'lr': 0.03063915376131891, 'num_pos_ex': 4, 'num_same_rel_ex': 2}. Best is trial 22 with value: 0.8854371359627972.\u001b[0m\n"
     ]
    },
    {
     "name": "stdout",
     "output_type": "stream",
     "text": [
      "Epoch: 0, validation ndcg 0.6759047219067625\n",
      "Epoch: 1, validation ndcg 0.7497722962389591\n",
      "Epoch: 2, validation ndcg 0.7878909201239717\n",
      "Epoch: 3, validation ndcg 0.8038502457827252\n",
      "Epoch: 4, validation ndcg 0.8183717588236\n",
      "Epoch: 5, validation ndcg 0.843799364721312\n",
      "Epoch: 6, validation ndcg 0.828819510815372\n",
      "Epoch: 7, validation ndcg 0.8358168637444359\n",
      "Epoch: 8, validation ndcg 0.8415448408460658\n"
     ]
    },
    {
     "name": "stderr",
     "output_type": "stream",
     "text": [
      "\u001b[32m[I 2023-03-24 19:33:37,888]\u001b[0m Trial 24 finished with value: 0.8415448408460658 and parameters: {'freeze_emb': False, 'min_token_occurancies': 1, 'num_kernels': 11, 'sigma': 0.0521879422336814, 'lr': 0.03635311710176743, 'num_pos_ex': 4, 'num_same_rel_ex': 2}. Best is trial 22 with value: 0.8854371359627972.\u001b[0m\n"
     ]
    },
    {
     "name": "stdout",
     "output_type": "stream",
     "text": [
      "Epoch: 0, validation ndcg 0.5488041862962498\n",
      "Epoch: 1, validation ndcg 0.7280407832201482\n",
      "Epoch: 2, validation ndcg 0.8134765978127172\n",
      "Epoch: 3, validation ndcg 0.8530272949625977\n",
      "Epoch: 4, validation ndcg 0.8669480404257264\n",
      "Epoch: 5, validation ndcg 0.8183141821993496\n",
      "Epoch: 6, validation ndcg 0.8513937504961697\n",
      "Epoch: 7, validation ndcg 0.8620616460917953\n",
      "Epoch: 8, validation ndcg 0.8859967063176127\n"
     ]
    },
    {
     "name": "stderr",
     "output_type": "stream",
     "text": [
      "\u001b[32m[I 2023-03-24 19:39:11,535]\u001b[0m Trial 25 finished with value: 0.8859967063176127 and parameters: {'freeze_emb': False, 'min_token_occurancies': 1, 'num_kernels': 18, 'sigma': 0.058603207330843614, 'lr': 0.028682702082785127, 'num_pos_ex': 4, 'num_same_rel_ex': 2}. Best is trial 25 with value: 0.8859967063176127.\u001b[0m\n"
     ]
    },
    {
     "name": "stdout",
     "output_type": "stream",
     "text": [
      "Epoch: 0, validation ndcg 0.6265750672031521\n",
      "Epoch: 1, validation ndcg 0.752718582007985\n",
      "Epoch: 2, validation ndcg 0.8244749593765469\n",
      "Epoch: 3, validation ndcg 0.845581455136606\n",
      "Epoch: 4, validation ndcg 0.8642939369774235\n",
      "Epoch: 5, validation ndcg 0.8711142029889972\n",
      "Epoch: 6, validation ndcg 0.8365591623768426\n",
      "Epoch: 7, validation ndcg 0.858682659639196\n",
      "Epoch: 8, validation ndcg 0.8566655488944341\n"
     ]
    },
    {
     "name": "stderr",
     "output_type": "stream",
     "text": [
      "\u001b[32m[I 2023-03-24 19:44:20,492]\u001b[0m Trial 26 finished with value: 0.8566655488944341 and parameters: {'freeze_emb': False, 'min_token_occurancies': 2, 'num_kernels': 12, 'sigma': 0.05865779801344104, 'lr': 0.0310427386924709, 'num_pos_ex': 4, 'num_same_rel_ex': 2}. Best is trial 25 with value: 0.8859967063176127.\u001b[0m\n"
     ]
    },
    {
     "name": "stdout",
     "output_type": "stream",
     "text": [
      "Epoch: 0, validation ndcg 0.5156346183904225\n",
      "Epoch: 1, validation ndcg 0.6172967020091513\n",
      "Epoch: 2, validation ndcg 0.7461797937829543\n",
      "Epoch: 3, validation ndcg 0.7959813106022549\n",
      "Epoch: 4, validation ndcg 0.8185477962086982\n",
      "Epoch: 5, validation ndcg 0.8003758862308809\n",
      "Epoch: 6, validation ndcg 0.8206176599246396\n",
      "Epoch: 7, validation ndcg 0.8355236516287206\n",
      "Epoch: 8, validation ndcg 0.8636310889916566\n"
     ]
    },
    {
     "name": "stderr",
     "output_type": "stream",
     "text": [
      "\u001b[32m[I 2023-03-24 19:49:51,344]\u001b[0m Trial 27 finished with value: 0.8636310889916566 and parameters: {'freeze_emb': False, 'min_token_occurancies': 1, 'num_kernels': 18, 'sigma': 0.07015793703925031, 'lr': 0.01995065497485282, 'num_pos_ex': 4, 'num_same_rel_ex': 2}. Best is trial 25 with value: 0.8859967063176127.\u001b[0m\n"
     ]
    },
    {
     "name": "stdout",
     "output_type": "stream",
     "text": [
      "Epoch: 0, validation ndcg 0.524288201433482\n",
      "Epoch: 1, validation ndcg 0.6945383882163093\n",
      "Epoch: 2, validation ndcg 0.7806298441112284\n",
      "Epoch: 3, validation ndcg 0.7881938773304182\n",
      "Epoch: 4, validation ndcg 0.7876545777911947\n",
      "Epoch: 5, validation ndcg 0.8045577812394312\n",
      "Epoch: 6, validation ndcg 0.8153696497734997\n",
      "Epoch: 7, validation ndcg 0.8338897473751695\n",
      "Epoch: 8, validation ndcg 0.8173318155495765\n"
     ]
    },
    {
     "name": "stderr",
     "output_type": "stream",
     "text": [
      "\u001b[32m[I 2023-03-24 19:55:20,700]\u001b[0m Trial 28 finished with value: 0.8173318155495765 and parameters: {'freeze_emb': False, 'min_token_occurancies': 1, 'num_kernels': 18, 'sigma': 0.07870836188058805, 'lr': 0.024890727009044412, 'num_pos_ex': 3, 'num_same_rel_ex': 3}. Best is trial 25 with value: 0.8859967063176127.\u001b[0m\n"
     ]
    },
    {
     "name": "stdout",
     "output_type": "stream",
     "text": [
      "Epoch: 0, validation ndcg 0.43902903119057957\n",
      "Epoch: 1, validation ndcg 0.5697943627357523\n",
      "Epoch: 2, validation ndcg 0.6730489884105669\n",
      "Epoch: 3, validation ndcg 0.7453054836845033\n",
      "Epoch: 4, validation ndcg 0.7638719573524476\n",
      "Epoch: 5, validation ndcg 0.7907860573537872\n",
      "Epoch: 6, validation ndcg 0.7405044510340801\n",
      "Epoch: 7, validation ndcg 0.8082786293821322\n",
      "Epoch: 8, validation ndcg 0.764581740446755\n"
     ]
    },
    {
     "name": "stderr",
     "output_type": "stream",
     "text": [
      "\u001b[32m[I 2023-03-24 20:00:51,495]\u001b[0m Trial 29 finished with value: 0.764581740446755 and parameters: {'freeze_emb': False, 'min_token_occurancies': 1, 'num_kernels': 18, 'sigma': 0.05753951453781773, 'lr': 0.018068288050994155, 'num_pos_ex': 2, 'num_same_rel_ex': 4}. Best is trial 25 with value: 0.8859967063176127.\u001b[0m\n"
     ]
    },
    {
     "name": "stdout",
     "output_type": "stream",
     "text": [
      "Number of finished trials: 30\n",
      "Best trial: {'freeze_emb': False, 'min_token_occurancies': 1, 'num_kernels': 18, 'sigma': 0.058603207330843614, 'lr': 0.028682702082785127, 'num_pos_ex': 4, 'num_same_rel_ex': 2}\n"
     ]
    }
   ],
   "source": [
    "study = optuna.create_study(direction='maximize')\n",
    "study.optimize(objective, n_trials=30)\n",
    "print('Number of finished trials:', len(study.trials))\n",
    "print('Best trial:', study.best_trial.params)"
   ]
  },
  {
   "cell_type": "code",
   "execution_count": 5,
   "metadata": {},
   "outputs": [
    {
     "name": "stdout",
     "output_type": "stream",
     "text": [
      "Number of finished trials: 30\n",
      "Best trial: {'freeze_emb': False, 'min_token_occurancies': 1, 'num_kernels': 18, 'sigma': 0.058603207330843614, 'lr': 0.028682702082785127, 'num_pos_ex': 4, 'num_same_rel_ex': 2}\n"
     ]
    }
   ],
   "source": [
    "print('Number of finished trials:', len(study.trials))\n",
    "print('Best trial:', study.best_trial.params)"
   ]
  },
  {
   "cell_type": "code",
   "execution_count": 4,
   "metadata": {},
   "outputs": [],
   "source": [
    "best_params = {'freeze_emb': False, 'min_token_occurancies': 1, 'num_kernels': 18,\n",
    "               'sigma': 0.058603207330843614, 'lr': 0.028682702082785127, 'num_pos_ex': 4,\n",
    "               'num_same_rel_ex': 2}"
   ]
  },
  {
   "cell_type": "code",
   "execution_count": 5,
   "metadata": {},
   "outputs": [
    {
     "name": "stdout",
     "output_type": "stream",
     "text": [
      "Epoch: 0, validation ndcg 0.547091338064236\n",
      "Epoch: 1, validation ndcg 0.7272683947089158\n",
      "Epoch: 2, validation ndcg 0.8101669488836125\n",
      "Epoch: 3, validation ndcg 0.8554089298265041\n",
      "Epoch: 4, validation ndcg 0.8704065931207523\n",
      "Epoch: 5, validation ndcg 0.8181210311344154\n",
      "Epoch: 6, validation ndcg 0.8499429726372575\n",
      "Epoch: 7, validation ndcg 0.8606942492454339\n",
      "Epoch: 8, validation ndcg 0.8886904451674117\n"
     ]
    }
   ],
   "source": [
    "# ndcg can vary within ~0.005 but it should end training on 9 epoch \n",
    "model = TrainKNRM(train_path=TRAIN_PATH, val_path=VAL_PATH, glove_path=GLOVE_PATH,\n",
    "                  random_vec_bound=1.0, out_layers=[], seed=0, num_epochs=30,\n",
    "                  batch_size=1024, change_every_num_ep=10, **best_params)\n",
    "model.fit(benchmark_ndcg_score=0.88)"
   ]
  },
  {
   "cell_type": "code",
   "execution_count": 8,
   "metadata": {},
   "outputs": [],
   "source": [
    "MLP_SAVE_PATH = PARENT_DIR + '/models/knrm_mlp.bin'\n",
    "EMB_SAVE_PATH = PARENT_DIR + '/models/knrm_emb.bin'\n",
    "VOCAB_SAVE_PATH = PARENT_DIR + '/models/vocab.json'\n",
    "state_mlp = model.knrm.mlp.state_dict()\n",
    "state_emb = model.knrm.embeddings.state_dict()\n",
    "vocab = model.vocab\n",
    "torch.save(state_mlp, open(MLP_SAVE_PATH, 'wb'))\n",
    "torch.save(state_emb, open(EMB_SAVE_PATH, 'wb'))\n",
    "json.dump(vocab, open(VOCAB_SAVE_PATH, 'w', encoding='utf-8'),\n",
    "          ensure_ascii=False, indent=4)"
   ]
  },
  {
   "cell_type": "code",
   "execution_count": null,
   "metadata": {},
   "outputs": [],
   "source": []
  }
 ],
 "metadata": {
  "kernelspec": {
   "display_name": ".venv",
   "language": "python",
   "name": "python3"
  },
  "language_info": {
   "codemirror_mode": {
    "name": "ipython",
    "version": 3
   },
   "file_extension": ".py",
   "mimetype": "text/x-python",
   "name": "python",
   "nbconvert_exporter": "python",
   "pygments_lexer": "ipython3",
   "version": "3.9.7"
  },
  "orig_nbformat": 4
 },
 "nbformat": 4,
 "nbformat_minor": 2
}
